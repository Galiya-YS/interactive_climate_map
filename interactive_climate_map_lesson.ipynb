{
 "cells": [
  {
   "cell_type": "markdown",
   "metadata": {},
   "source": [
    "## Step-by-step guide to generating an interactive climate map in Bokeh (& Geopandas)\n",
    "- **With some specific boilerplate code already filled in**\n",
    "- **Make sure you already have bokeh and geopandas installed**! (e.g. `pip` or `conda`)"
   ]
  },
  {
   "cell_type": "markdown",
   "metadata": {},
   "source": [
    "<img src=\"https://ih0.redbubble.net/image.200221032.8842/flat,1000x1000,075,f.u3.jpg\" align=\"center\" alt=\"bokeh_map\" width=\"500/\"/>"
   ]
  },
  {
   "cell_type": "markdown",
   "metadata": {},
   "source": [
    "### STEP 1: Read in historical temperature data"
   ]
  },
  {
   "cell_type": "code",
   "execution_count": null,
   "metadata": {},
   "outputs": [],
   "source": [
    "DATA = 'data/all_country_temp_data_CLEAN.csv'"
   ]
  },
  {
   "cell_type": "markdown",
   "metadata": {},
   "source": [
    "---\n",
    "---"
   ]
  },
  {
   "cell_type": "markdown",
   "metadata": {},
   "source": [
    "### STEP 2: Read in the geographic data (geometric shapes of all countries in the world) \n",
    "- Hint: Use GeoPandas"
   ]
  },
  {
   "cell_type": "code",
   "execution_count": null,
   "metadata": {},
   "outputs": [],
   "source": [
    "SHAPEFILE = 'data/ne_110m_admin_0_countries.shp'"
   ]
  },
  {
   "cell_type": "markdown",
   "metadata": {},
   "source": [
    "---\n",
    "---"
   ]
  },
  {
   "cell_type": "markdown",
   "metadata": {},
   "source": [
    "### STEP 3: Group / aggregate the temperature anomaly data by year\n",
    "- For simplicity, we're only interested in yearly averages"
   ]
  },
  {
   "cell_type": "code",
   "execution_count": null,
   "metadata": {},
   "outputs": [],
   "source": []
  },
  {
   "cell_type": "markdown",
   "metadata": {},
   "source": [
    "### STEP 4: Merge Data Sets.\n",
    "- We want to have our temperature data and geometric data in one place.\n",
    "- Make sure you're still left with a GeoDataFrame at the end."
   ]
  },
  {
   "cell_type": "code",
   "execution_count": null,
   "metadata": {},
   "outputs": [],
   "source": []
  },
  {
   "cell_type": "markdown",
   "metadata": {},
   "source": [
    "---\n",
    "---\n",
    "### Time for Visualization\n",
    "\n",
    "---\n",
    "---"
   ]
  },
  {
   "cell_type": "markdown",
   "metadata": {},
   "source": [
    "### STEP 5: Plot data on a map for a single year.\n",
    "- We'll make it interactive later\n",
    "- The Bokeh library (as well as many other JavaScript-based mapping libraries) requires the data to be in GeoJSON format.\n"
   ]
  },
  {
   "cell_type": "markdown",
   "metadata": {},
   "source": [
    "   ### 5a. Generate a blank canvas / figure."
   ]
  },
  {
   "cell_type": "code",
   "execution_count": null,
   "metadata": {},
   "outputs": [],
   "source": [
    "from bokeh.plotting import figure"
   ]
  },
  {
   "cell_type": "code",
   "execution_count": null,
   "metadata": {},
   "outputs": [],
   "source": [
    "p = figure(title = _____,\n",
    "           plot_height = 600,\n",
    "           plot_width = 1000,\n",
    "          )"
   ]
  },
  {
   "cell_type": "code",
   "execution_count": null,
   "metadata": {},
   "outputs": [],
   "source": [
    "#Display figure inline in Jupyter Notebook.\n",
    "from bokeh.io import output_notebook, show"
   ]
  },
  {
   "cell_type": "code",
   "execution_count": null,
   "metadata": {},
   "outputs": [],
   "source": [
    "output_notebook()\n",
    "show(p)"
   ]
  },
  {
   "cell_type": "markdown",
   "metadata": {},
   "source": [
    "---"
   ]
  },
  {
   "cell_type": "markdown",
   "metadata": {},
   "source": [
    "### 5b. Generate a GeoJSON for a single year and use it to add shapes onto the figure"
   ]
  },
  {
   "cell_type": "code",
   "execution_count": null,
   "metadata": {},
   "outputs": [],
   "source": [
    "from bokeh.models import GeoJSONDataSource"
   ]
  },
  {
   "cell_type": "code",
   "execution_count": null,
   "metadata": {},
   "outputs": [],
   "source": [
    "geosource = GeoJSONDataSource(geojson = _____)"
   ]
  },
  {
   "cell_type": "code",
   "execution_count": null,
   "metadata": {},
   "outputs": [],
   "source": [
    "#Add patch renderer to figure. i.e. actually add the map to the canvas.\n",
    "p.patches('xs',\n",
    "          'ys',\n",
    "          source = _____,\n",
    "          line_color = '_______',\n",
    "          line_width = 0.25)"
   ]
  },
  {
   "cell_type": "markdown",
   "metadata": {},
   "source": [
    "---"
   ]
  },
  {
   "cell_type": "markdown",
   "metadata": {},
   "source": [
    "### 5c. Associate temperature values with colors\n",
    "- https://docs.bokeh.org/en/latest/docs/reference/palettes.html#brewer-palettes"
   ]
  },
  {
   "cell_type": "code",
   "execution_count": null,
   "metadata": {},
   "outputs": [],
   "source": [
    "from bokeh.palettes import brewer"
   ]
  },
  {
   "cell_type": "code",
   "execution_count": null,
   "metadata": {},
   "outputs": [],
   "source": [
    "palette = brewer['____']_____"
   ]
  },
  {
   "cell_type": "code",
   "execution_count": null,
   "metadata": {},
   "outputs": [],
   "source": [
    "from bokeh.models import LinearColorMapper"
   ]
  },
  {
   "cell_type": "code",
   "execution_count": null,
   "metadata": {},
   "outputs": [],
   "source": [
    "color_mapper = LinearColorMapper(palette = _____,\n",
    "                                 low = _____,\n",
    "                                 high = _____, \n",
    "                                 nan_color = ______)"
   ]
  },
  {
   "cell_type": "code",
   "execution_count": null,
   "metadata": {},
   "outputs": [],
   "source": [
    "from bokeh.models import ColorBar\n",
    "color_bar = ColorBar(color_mapper = _______,\n",
    "                     label_standoff = 8,\n",
    "                     width = ______,\n",
    "                     height = ______,\n",
    "                     location = _______,\n",
    "                     orientation = 'horizontal'\n",
    "                    )"
   ]
  },
  {
   "cell_type": "code",
   "execution_count": null,
   "metadata": {},
   "outputs": [],
   "source": [
    "p.add_layout(_______, 'below')"
   ]
  },
  {
   "cell_type": "code",
   "execution_count": null,
   "metadata": {},
   "outputs": [],
   "source": [
    "p.patches('xs',\n",
    "          'ys',\n",
    "          source = _______,\n",
    "          fill_color = {'field' :'_______', 'transform':________}, ### NEW ###\n",
    "          line_color = '______',\n",
    "          line_width = _______)"
   ]
  },
  {
   "cell_type": "markdown",
   "metadata": {},
   "source": [
    "---\n",
    "---"
   ]
  },
  {
   "cell_type": "markdown",
   "metadata": {},
   "source": [
    "### STEP 6: Add interactivity so that we can change attributes of the map with a slider\n",
    "- Bokeh provides an extensive set of widgets and tools and makes it very simple to create rich, interactive visualizations.\n",
    "- Define a couple functions and combine it with the code you've already written for creating the static map."
   ]
  },
  {
   "cell_type": "markdown",
   "metadata": {},
   "source": [
    "---"
   ]
  },
  {
   "cell_type": "markdown",
   "metadata": {},
   "source": [
    "### 6a. Make our lives easier by defining a function that changes the source data based on year."
   ]
  },
  {
   "cell_type": "code",
   "execution_count": null,
   "metadata": {},
   "outputs": [],
   "source": [
    "def get_geojson(___):\n",
    "    \"\"\"Input a year (int) and return corresponding GeoJSON\"\"\"\n",
    "    gdf_year = gdf[gdf['____'] == ___] \n",
    "    return gdf_year.______\n",
    "\n",
    "geosource = GeoJSONDataSource(geojson = get_geojson(_____))"
   ]
  },
  {
   "cell_type": "markdown",
   "metadata": {},
   "source": [
    "---"
   ]
  },
  {
   "cell_type": "markdown",
   "metadata": {},
   "source": [
    "### 6b. Add a slider widget"
   ]
  },
  {
   "cell_type": "code",
   "execution_count": null,
   "metadata": {},
   "outputs": [],
   "source": [
    "from bokeh.models import Slider"
   ]
  },
  {
   "cell_type": "code",
   "execution_count": null,
   "metadata": {},
   "outputs": [],
   "source": [
    "slider = Slider(title = '_____', start = _____, end = _____, step = _____, value = _____)"
   ]
  },
  {
   "cell_type": "markdown",
   "metadata": {},
   "source": [
    "---"
   ]
  },
  {
   "cell_type": "markdown",
   "metadata": {},
   "source": [
    "### 6c. Write a \"callback\" function that defines what happens whenever we move the slider.\n"
   ]
  },
  {
   "cell_type": "code",
   "execution_count": null,
   "metadata": {},
   "outputs": [],
   "source": [
    "def update_plot(attr, old, new):\n",
    "    \n",
    "    \"\"\"Change properties / attributes of the datasource and title depending on slider value / position.\"\"\"\n",
    "    \n",
    "    yr = slider._____\n",
    "    new_data = get_geojson(____)\n",
    "    geosource.______ = new_data\n",
    "    p._____._____ = f'Avg. Monthly Temperature Anomaly for Year {yr}'\n",
    "      "
   ]
  },
  {
   "cell_type": "code",
   "execution_count": null,
   "metadata": {},
   "outputs": [],
   "source": [
    "slider.on_change('value', update_plot)"
   ]
  },
  {
   "cell_type": "markdown",
   "metadata": {},
   "source": [
    "---"
   ]
  },
  {
   "cell_type": "markdown",
   "metadata": {},
   "source": [
    "### And finally, some boilerplate code to wrap everything together...\n",
    "- Wrap the slider in a \"widget box\", combine it with the figure in a column layout, and add it all to the current document. "
   ]
  },
  {
   "cell_type": "code",
   "execution_count": null,
   "metadata": {},
   "outputs": [],
   "source": [
    "from bokeh.layouts import widgetbox, column\n",
    "from bokeh.io import curdoc\n",
    "\n",
    "layout = column(p,widgetbox(slider))\n",
    "curdoc().add_root(layout)"
   ]
  },
  {
   "cell_type": "code",
   "execution_count": null,
   "metadata": {},
   "outputs": [],
   "source": [
    "show(layout)"
   ]
  },
  {
   "cell_type": "markdown",
   "metadata": {},
   "source": [
    "---\n",
    "---\n",
    "---"
   ]
  },
  {
   "cell_type": "markdown",
   "metadata": {},
   "source": [
    "**To view this application in interactive mode you need to set up a local Bokeh server.**\n",
    "\n",
    "**In the terminal, run:**\n",
    "\n",
    "``bokeh serve --show <name_of_notebook>.ipynb``"
   ]
  },
  {
   "cell_type": "markdown",
   "metadata": {},
   "source": [
    "---\n",
    "---\n",
    "---"
   ]
  },
  {
   "cell_type": "markdown",
   "metadata": {},
   "source": [
    "### Bonus / Follow-up:\n",
    "- Add a hover tool (so data is shown when the mouse hovers over a country)\n",
    "- Any other cool widgets you can think of?\n",
    "- Get more data up through 2019/2020.\n",
    "    - Any data source / API where you might be able to get this?\n",
    "- Create predictions through 2050, and add them to the visualization.\n",
    "- Why does the data load slowly, and how could we improve the speed?"
   ]
  },
  {
   "cell_type": "code",
   "execution_count": null,
   "metadata": {},
   "outputs": [],
   "source": []
  }
 ],
 "metadata": {
  "kernelspec": {
   "display_name": "Python 3",
   "language": "python",
   "name": "python3"
  },
  "language_info": {
   "codemirror_mode": {
    "name": "ipython",
    "version": 3
   },
   "file_extension": ".py",
   "mimetype": "text/x-python",
   "name": "python",
   "nbconvert_exporter": "python",
   "pygments_lexer": "ipython3",
   "version": "3.6.7"
  }
 },
 "nbformat": 4,
 "nbformat_minor": 2
}
