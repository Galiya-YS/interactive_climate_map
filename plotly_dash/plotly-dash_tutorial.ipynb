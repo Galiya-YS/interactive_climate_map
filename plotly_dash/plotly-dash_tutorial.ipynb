{
 "cells": [
  {
   "cell_type": "markdown",
   "metadata": {},
   "source": [
    "# WARNING: \n",
    "\n",
    "## This tutorial is still in progress. Please refer to the links below for examples on how to make maps in Plotly."
   ]
  },
  {
   "cell_type": "markdown",
   "metadata": {},
   "source": [
    "---"
   ]
  },
  {
   "cell_type": "markdown",
   "metadata": {},
   "source": [
    "- **NOTE**:\n",
    "    \n",
    "    - This tutorial is still in progress. Please refer to links below.\n",
    "        - The data for this particular lesson was scraped from [Berkeley Earth](http://berkeleyearth.lbl.gov/country-list/) and cleaned / pre-processed ahead of time.\n",
    "    - Code snippets borrowed from / inspired by:\n",
    "        - [Dash Sample App](https://github.com/plotly/dash-sample-apps/tree/master/apps/dash-opioid-epidemic) *(from the Plotly developers)*. Check out all the other [amazing stuff you can build with Plotly and Dash](https://dash-gallery.plotly.host/Portal/)!\n",
    "        - The [great code snippets / examples from the Plotly website](https://plotly.com/python/maps/)\n",
    "        - The [Capital Bike Dashboard Project](https://github.com/GesaJo/Capital-Bike-Dashboard) by [Gesa Johannsen](https://github.com/GesaJo), fellow Data Science Instructor @ Spiced Academy.\n",
    "        - *Towards Data Science Article* by [Jun Ye](https://github.com/Perishleaf): [Build an Interactive Climate Choropleth Map with Plotly and Dash](https://towardsdatascience.com/build-an-interactive-choropleth-map-with-plotly-and-dash-1de0de00dce0)\n",
    "            - Source code: https://github.com/Perishleaf/data-visualisation-scripts/tree/master/dash_project_medium"
   ]
  },
  {
   "cell_type": "markdown",
   "metadata": {},
   "source": [
    "<img src=\"../img/plotly_dash.png\" align=\"center\" alt=\"bokeh_map\" width=\"400/\"/>"
   ]
  },
  {
   "cell_type": "markdown",
   "metadata": {},
   "source": [
    "- **Make sure you already have plotly, dash, and geopandas installed**! (e.g. `pip` or `conda`), e.g.:\n",
    "\n",
    "    - `pip install plotly`\n",
    "    \n",
    "    - `pip install dash`\n",
    "    \n",
    "    - `pip install geopandas==0.7.0`\n",
    "    "
   ]
  },
  {
   "cell_type": "markdown",
   "metadata": {},
   "source": [
    "*Note*: this notebook was last run and tested on geopandas version 0.8.0 (released July 15, 2020). The latest versions of plotly and dash should work just fine."
   ]
  },
  {
   "cell_type": "markdown",
   "metadata": {},
   "source": [
    "---"
   ]
  },
  {
   "cell_type": "markdown",
   "metadata": {},
   "source": [
    "### STEP 1: Read in historical temperature data\n",
    "- Historical temperature data scraped for all countries from [Berkeley Earth](http://berkeleyearth.lbl.gov/country-list/) \n",
    "- According to Berkeley Earth: \"Temperatures are in Celsius and reported as anomalies relative to the Jan 1951-Dec 1980 average.\""
   ]
  },
  {
   "cell_type": "code",
   "execution_count": null,
   "metadata": {},
   "outputs": [],
   "source": [
    "DATA = '../data/all_country_temp_data_CLEAN.csv'"
   ]
  },
  {
   "cell_type": "code",
   "execution_count": null,
   "metadata": {},
   "outputs": [],
   "source": [
    "#Read in the data with pandas\n",
    "import pandas as pd\n",
    "df = pd.read_csv(DATA)"
   ]
  },
  {
   "cell_type": "markdown",
   "metadata": {},
   "source": [
    "---\n",
    "---"
   ]
  },
  {
   "cell_type": "markdown",
   "metadata": {},
   "source": [
    "### STEP 2: Read in the geographic data (geometric shapes of all countries in the world) \n",
    "- Hint: Use GeoPandas\n",
    "    - What is a **Shape file (.shp)?**\n",
    "        - https://en.wikipedia.org/wiki/Shapefile#Shapefile_shape_format_(.shp)\n",
    "- Publicly available GIS data downloaded from *Natural Earth*: https://www.naturalearthdata.com/downloads/110m-cultural-vectors/"
   ]
  },
  {
   "cell_type": "code",
   "execution_count": null,
   "metadata": {},
   "outputs": [],
   "source": [
    "SHAPEFILE = '../data/ne_110m_admin_0_countries.shp'"
   ]
  },
  {
   "cell_type": "markdown",
   "metadata": {},
   "source": [
    "---\n",
    "---"
   ]
  },
  {
   "cell_type": "markdown",
   "metadata": {},
   "source": [
    "### STEP 3: Group / aggregate the temperature anomaly data by country, year\n",
    "- For simplicity, we're only interested in yearly averages"
   ]
  },
  {
   "cell_type": "code",
   "execution_count": null,
   "metadata": {},
   "outputs": [],
   "source": []
  },
  {
   "cell_type": "markdown",
   "metadata": {},
   "source": [
    "### STEP 4: Merge Data Sets.\n",
    "- We want to have our temperature data and geometric data in one place.\n",
    "- Make sure you're still left with a GeoDataFrame at the end."
   ]
  },
  {
   "cell_type": "markdown",
   "metadata": {},
   "source": [
    "---\n",
    "---\n",
    "### Time for Visualization with\n",
    "\n",
    "<img src=\"../img/plotly_logo.png\" align=\"left\" alt=\"bokeh_logo\" width=\"200/\"/>"
   ]
  },
  {
   "cell_type": "markdown",
   "metadata": {},
   "source": [
    "---\n",
    "---"
   ]
  },
  {
   "cell_type": "code",
   "execution_count": null,
   "metadata": {},
   "outputs": [],
   "source": []
  }
 ],
 "metadata": {
  "kernelspec": {
   "display_name": "Python 3",
   "language": "python",
   "name": "python3"
  },
  "language_info": {
   "codemirror_mode": {
    "name": "ipython",
    "version": 3
   },
   "file_extension": ".py",
   "mimetype": "text/x-python",
   "name": "python",
   "nbconvert_exporter": "python",
   "pygments_lexer": "ipython3",
   "version": "3.6.10"
  }
 },
 "nbformat": 4,
 "nbformat_minor": 4
}
